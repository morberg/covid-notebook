{
 "cells": [
  {
   "cell_type": "code",
   "execution_count": 1,
   "metadata": {},
   "outputs": [],
   "source": [
    "import datetime as dt\n",
    "from functools import wraps\n",
    "\n",
    "import altair as alt\n",
    "import altair_morberg.core as morberg\n",
    "import numpy as np\n",
    "import pandas as pd\n",
    "from covid import dataimport\n",
    "\n",
    "#%load_ext lab_black"
   ]
  },
  {
   "cell_type": "code",
   "execution_count": 2,
   "metadata": {},
   "outputs": [],
   "source": [
    "fhm_data, labels = dataimport.get_lag_data()\n",
    "local_url = \"data/fhm.json\"\n",
    "fhm_data.to_json(local_url, orient=\"records\")\n",
    "url = \"https://raw.githubusercontent.com/morberg/covid-notebook/master/data/fhm.json\"\n",
    "\n",
    "alt.themes.register(\"morberg_theme\", morberg.theme)\n",
    "alt.themes.enable(\"morberg_theme\");"
   ]
  },
  {
   "cell_type": "code",
   "execution_count": 3,
   "metadata": {},
   "outputs": [],
   "source": [
    "# Functions for processing cases data\n",
    "def log_step(func):\n",
    "    @wraps(func)\n",
    "    def wrapper(*args, **kwargs):\n",
    "        tic = dt.datetime.now()\n",
    "        result = func(*args, **kwargs)\n",
    "        time_taken = str(dt.datetime.now() - tic)\n",
    "        #print(f\"{func.__name__} shape={result.shape} took {time_taken}s\")\n",
    "        return result\n",
    "\n",
    "    return wrapper\n",
    "\n",
    "\n",
    "@log_step\n",
    "def start_pipeline(dataf):\n",
    "    return dataf.copy()\n",
    "\n",
    "\n",
    "@log_step\n",
    "def remove_columns(dataf):\n",
    "    return dataf.drop(columns=\"Totalt_antal_fall\")\n",
    "\n",
    "\n",
    "@log_step\n",
    "def to_long_format(dataf):\n",
    "    return dataf.melt(id_vars=\"Statistikdatum\", var_name=\"Län\", value_name=\"Fall\")\n",
    "\n",
    "\n",
    "@log_step\n",
    "def add_week_numbers(dataf):\n",
    "    dataf[\"Vecka\"] = dataf.Statistikdatum.dt.strftime('%g-%V')\n",
    "    return dataf\n",
    "\n",
    "\n",
    "# Data from FHM for number of cases\n",
    "input_excel = \"https://www.arcgis.com/sharing/rest/content/items/b5e7488e117749c19881cce45db13f7e/data\"\n",
    "df = pd.read_excel(input_excel)\n",
    "\n",
    "cases = (\n",
    "    df.pipe(start_pipeline)\n",
    "    .pipe(remove_columns)\n",
    "    .pipe(to_long_format)\n",
    "    .pipe(add_week_numbers)\n",
    ")\n",
    "\n",
    "local_cases_url = \"data/cases.json\"\n",
    "cases.to_json(local_cases_url, orient=\"records\")\n",
    "cases_url = (\n",
    "    \"https://raw.githubusercontent.com/morberg/covid-notebook/master/data/cases.json\"\n",
    ")"
   ]
  },
  {
   "cell_type": "markdown",
   "metadata": {},
   "source": [
    "# Covid-19 graphs for Sweden\n",
    "\n",
    "## Covid-19 death date, reporting date, and lag\n",
    "\n",
    "Interactive graph showing the number of reported Covid-19 deaths in Sweden. Select dates in the bottom *Publication Date* graph by clicking and dragging. Gray bars is a prediction based on average lag for the past three weeks. See [Adam Altmejd's repo](https://github.com/adamaltmejd/covid) for details."
   ]
  },
  {
   "cell_type": "code",
   "execution_count": 4,
   "metadata": {
    "tags": []
   },
   "outputs": [
    {
     "output_type": "stream",
     "name": "stdout",
     "text": [
      "Total deaths reported by Friday, February 05: 12115\n"
     ]
    }
   ],
   "source": [
    "total_deaths = fhm_data[\n",
    "    fhm_data.publication_date == fhm_data.publication_date.max()\n",
    "].N.sum()\n",
    "print(\n",
    "    f\"Total deaths reported by {fhm_data.publication_date.max():%A, %B %d}: {int(total_deaths)}\"\n",
    ")"
   ]
  },
  {
   "cell_type": "code",
   "execution_count": 18,
   "metadata": {},
   "outputs": [
    {
     "output_type": "execute_result",
     "data": {
      "text/html": "\n<div id=\"altair-viz-1c850deb3eb74d46b0ae563f4d236a38\"></div>\n<script type=\"text/javascript\">\n  (function(spec, embedOpt){\n    let outputDiv = document.currentScript.previousElementSibling;\n    if (outputDiv.id !== \"altair-viz-1c850deb3eb74d46b0ae563f4d236a38\") {\n      outputDiv = document.getElementById(\"altair-viz-1c850deb3eb74d46b0ae563f4d236a38\");\n    }\n    const paths = {\n      \"vega\": \"https://cdn.jsdelivr.net/npm//vega@5?noext\",\n      \"vega-lib\": \"https://cdn.jsdelivr.net/npm//vega-lib?noext\",\n      \"vega-lite\": \"https://cdn.jsdelivr.net/npm//vega-lite@4.8.1?noext\",\n      \"vega-embed\": \"https://cdn.jsdelivr.net/npm//vega-embed@6?noext\",\n    };\n\n    function loadScript(lib) {\n      return new Promise(function(resolve, reject) {\n        var s = document.createElement('script');\n        s.src = paths[lib];\n        s.async = true;\n        s.onload = () => resolve(paths[lib]);\n        s.onerror = () => reject(`Error loading script: ${paths[lib]}`);\n        document.getElementsByTagName(\"head\")[0].appendChild(s);\n      });\n    }\n\n    function showError(err) {\n      outputDiv.innerHTML = `<div class=\"error\" style=\"color:red;\">${err}</div>`;\n      throw err;\n    }\n\n    function displayChart(vegaEmbed) {\n      vegaEmbed(outputDiv, spec, embedOpt)\n        .catch(err => showError(`Javascript Error: ${err.message}<br>This usually means there's a typo in your chart specification. See the javascript console for the full traceback.`));\n    }\n\n    if(typeof define === \"function\" && define.amd) {\n      requirejs.config({paths});\n      require([\"vega-embed\"], displayChart, err => showError(`Error loading script: ${err.message}`));\n    } else if (typeof vegaEmbed === \"function\") {\n      displayChart(vegaEmbed);\n    } else {\n      loadScript(\"vega\")\n        .then(() => loadScript(\"vega-lite\"))\n        .then(() => loadScript(\"vega-embed\"))\n        .catch(showError)\n        .then(() => displayChart(vegaEmbed));\n    }\n  })({\"config\": {\"axis\": {\"labelFontSize\": 12, \"labelColor\": \"#666\", \"titleFontSize\": 14, \"titleFontWeight\": \"normal\", \"titleColor\": \"#666\"}, \"axisX\": {\"grid\": false, \"gridWidth\": 0.4}, \"axisY\": {\"gridDash\": [3], \"gridWidth\": 0.4, \"offset\": 10}, \"legend\": {\"titleFontSize\": 14, \"titleFontWeight\": \"normal\", \"titleColor\": \"#666\", \"labelColor\": \"#666\", \"labelFontSize\": 13}, \"font\": \"Avenir Next, sans-serif\", \"header\": {\"labelFontSize\": 14, \"labelColor\": \"#666\", \"titleFontSize\": 16, \"titleFontWeight\": \"normal\", \"titleColor\": \"#666\"}, \"headerRow\": {\"labelFontSize\": 14, \"labelColor\": \"#666\"}, \"title\": {\"anchor\": \"start\", \"frame\": \"group\", \"offset\": 10, \"fontSize\": 24, \"font\": \"Avenir Next Demi Bold, Avenir Next, sans-serif\"}, \"view\": {\"strokeWidth\": 0, \"continuousWidth\": 600, \"continuousHeight\": 400}}, \"hconcat\": [{\"vconcat\": [{\"layer\": [{\"mark\": {\"type\": \"bar\", \"color\": \"#E8E8E8\"}, \"encoding\": {\"x\": {\"type\": \"temporal\", \"axis\": {\"format\": \"%b %Y\", \"tickCount\": 12}, \"field\": \"date\", \"timeUnit\": \"yearmonthdate\"}, \"y\": {\"type\": \"quantitative\", \"aggregate\": {\"argmax\": \"publication_date\"}, \"field\": \"prediction\"}}, \"transform\": [{\"filter\": {\"selection\": \"selector004\"}}]}, {\"mark\": {\"type\": \"bar\", \"binSpacing\": 0}, \"encoding\": {\"color\": {\"type\": \"nominal\", \"field\": \"lag\", \"sort\": [\"0-1\", \"2-4\", \"5-7\", \"8-14\", \"15+\"], \"title\": \"Lag in Days\"}, \"order\": {\"type\": \"nominal\", \"field\": \"days_since_publication\", \"sort\": \"ascending\"}, \"x\": {\"type\": \"temporal\", \"field\": \"date\", \"scale\": {\"domain\": [\"2020-03-13\", \"2021-02-06\"]}, \"timeUnit\": \"yearmonthdate\", \"title\": \"Occured\"}, \"y\": {\"type\": \"quantitative\", \"aggregate\": \"sum\", \"field\": \"n_diff\", \"scale\": {\"domain\": [0, 122.0]}, \"title\": \"\"}}, \"height\": 400, \"title\": \"Daily Covid-19 deaths in Sweden\", \"transform\": [{\"filter\": {\"selection\": \"selector004\"}}, {\"filter\": \"datum.date >= datetime(2020,2,13)\"}]}, {\"mark\": {\"type\": \"text\", \"align\": \"right\", \"fontSize\": 16, \"x\": 692, \"y\": 19}, \"encoding\": {\"text\": {\"type\": \"nominal\", \"field\": \"text\"}}, \"transform\": [{\"filter\": {\"selection\": \"selector004\"}}, {\"aggregate\": [{\"op\": \"sum\", \"field\": \"n_diff\", \"as\": \"sum_deaths\"}]}, {\"calculate\": \"('Total deaths: ' + datum.sum_deaths)\", \"as\": \"text\"}]}], \"width\": 750}, {\"mark\": {\"type\": \"bar\", \"binSpacing\": 0}, \"encoding\": {\"tooltip\": [{\"type\": \"quantitative\", \"aggregate\": \"sum\", \"field\": \"n_diff\", \"title\": \"Reported Deaths\"}, {\"type\": \"temporal\", \"field\": \"publication_date\"}], \"x\": {\"type\": \"temporal\", \"axis\": {\"format\": \"%b %Y\", \"tickCount\": 12}, \"field\": \"publication_date\", \"scale\": {\"domain\": [\"2020-03-13\", \"2021-02-06\"]}, \"timeUnit\": \"yearmonthdate\", \"title\": \"Reported\"}, \"y\": {\"type\": \"quantitative\", \"aggregate\": \"sum\", \"field\": \"n_diff\", \"scale\": {\"domain\": [0, 350]}, \"title\": \"\"}}, \"height\": 100, \"selection\": {\"selector004\": {\"type\": \"interval\", \"encodings\": [\"x\"]}}, \"width\": 750}]}, {\"mark\": \"bar\", \"encoding\": {\"color\": {\"type\": \"ordinal\", \"field\": \"lag\", \"legend\": null, \"sort\": [\"0-1\", \"2-4\", \"5-7\", \"8-14\", \"15+\"]}, \"x\": {\"type\": \"quantitative\", \"aggregate\": \"sum\", \"field\": \"n_diff\", \"title\": \"\"}, \"y\": {\"type\": \"ordinal\", \"field\": \"lag\", \"sort\": [\"0-1\", \"2-4\", \"5-7\", \"8-14\", \"15+\"], \"title\": \"Reporting lag in days\"}}, \"title\": \"\", \"transform\": [{\"filter\": {\"selection\": \"selector004\"}}], \"width\": 50}], \"data\": {\"url\": \"data/fhm.json\"}, \"$schema\": \"https://vega.github.io/schema/vega-lite/v4.8.1.json\"}, {\"mode\": \"vega-lite\"});\n</script>",
      "text/plain": [
       "alt.HConcatChart(...)"
      ]
     },
     "metadata": {},
     "execution_count": 18
    }
   ],
   "source": [
    "domain = [\n",
    "    \"2020-03-13\",\n",
    "    (fhm_data.date.max() + pd.Timedelta(\"1D\")).date().isoformat(),\n",
    "]\n",
    "\n",
    "brush = alt.selection(type=\"interval\", encodings=[\"x\"])\n",
    "\n",
    "deceased = (\n",
    "    alt.Chart(url, height=400, title=\"Daily Covid-19 deaths in Sweden\")\n",
    "    .mark_bar(binSpacing=0)\n",
    "    .encode(\n",
    "        x=alt.X(\n",
    "            \"yearmonthdate(date):T\",\n",
    "            title=\"Occured\",\n",
    "            scale=alt.Scale(domain=domain),\n",
    "        ),\n",
    "        y=alt.Y(\n",
    "            \"sum(n_diff):Q\",\n",
    "            title=\"\",\n",
    "            scale=alt.Scale(domain=[0, fhm_data.N.max()]),\n",
    "        ),\n",
    "        order=alt.Order(\n",
    "            # Sort the segments of the bars by this field\n",
    "            \"days_since_publication:N\",\n",
    "            sort=\"ascending\",\n",
    "        ),\n",
    "        color=alt.Color(\n",
    "            \"lag:N\",\n",
    "            title=\"Lag in Days\",\n",
    "            sort=labels,\n",
    "#            scale=alt.Scale(scheme=\"viridis\"),\n",
    "        ),\n",
    "    )\n",
    "    .transform_filter(brush)\n",
    ").transform_filter(\"datum.date >= datetime(2020,2,13)\")\n",
    "\n",
    "reported = (\n",
    "    alt.Chart(url, height=100)\n",
    "    .mark_bar(binSpacing=0)\n",
    "    .encode(\n",
    "        x=alt.X(\n",
    "            \"yearmonthdate(publication_date):T\",\n",
    "            title=\"Reported\",\n",
    "            scale=alt.Scale(domain=domain),\n",
    "            axis=alt.Axis(format=\"%b %Y\", tickCount=12),\n",
    "        ),\n",
    "        y=alt.Y(\"sum(n_diff):Q\", title=\"\", scale=alt.Scale(domain=[0, 350]),),\n",
    "        tooltip=[\n",
    "            alt.Tooltip(\"sum(n_diff):Q\", title=\"Reported Deaths\"),\n",
    "            \"publication_date:T\",\n",
    "        ],\n",
    "    )\n",
    "    .add_selection(brush)\n",
    ")\n",
    "\n",
    "legend_vert = (\n",
    "    alt.Chart(url, width=50, title=\"\")\n",
    "    .mark_bar()\n",
    "    .encode(\n",
    "        x=alt.X(\"sum(n_diff):Q\", title=\"\"),\n",
    "        y=alt.Y(\"lag:O\", title=\"Reporting lag in days\", sort=labels),\n",
    "        color=alt.Color(\"lag:O\", sort=labels, legend=None),\n",
    "    )\n",
    "    .transform_filter(brush)\n",
    ")\n",
    "\n",
    "text = (\n",
    "    alt.Chart(url)\n",
    "    .transform_filter(brush)\n",
    "    .transform_aggregate(sum_deaths=\"sum(n_diff):Q\")\n",
    "    .transform_calculate(text=\"Total deaths: \" + alt.datum.sum_deaths)\n",
    "    .mark_text(align=\"right\", x=692, y=19, fontSize=16)\n",
    "    .encode(text=\"text:N\")\n",
    ")\n",
    "\n",
    "prediction = (\n",
    "    alt.Chart(url)\n",
    "    .mark_bar(color=\"#E8E8E8\")\n",
    "    .encode(\n",
    "        x=alt.X(\"yearmonthdate(date):T\", axis=alt.Axis(format=\"%b %Y\", tickCount=12),),\n",
    "        y=alt.Y(\"prediction:Q\", aggregate={\"argmax\": \"publication_date\"}),\n",
    "    )\n",
    "    .transform_filter(brush)\n",
    ")\n",
    "\n",
    "(\n",
    "    (prediction + deceased + text).properties(width=750)\n",
    "    & reported.properties(width=750)\n",
    "    | legend_vert\n",
    ")"
   ]
  },
  {
   "cell_type": "markdown",
   "metadata": {},
   "source": [
    "## Deaths for the past six weeks\n",
    "\n",
    "Same info as in the graph above showing only death dates for the past six weeks."
   ]
  },
  {
   "cell_type": "code",
   "execution_count": 17,
   "metadata": {},
   "outputs": [
    {
     "output_type": "execute_result",
     "data": {
      "text/html": "\n<div id=\"altair-viz-6d48ce6a313e4f7eb5bf0bcdb68c23c3\"></div>\n<script type=\"text/javascript\">\n  (function(spec, embedOpt){\n    let outputDiv = document.currentScript.previousElementSibling;\n    if (outputDiv.id !== \"altair-viz-6d48ce6a313e4f7eb5bf0bcdb68c23c3\") {\n      outputDiv = document.getElementById(\"altair-viz-6d48ce6a313e4f7eb5bf0bcdb68c23c3\");\n    }\n    const paths = {\n      \"vega\": \"https://cdn.jsdelivr.net/npm//vega@5?noext\",\n      \"vega-lib\": \"https://cdn.jsdelivr.net/npm//vega-lib?noext\",\n      \"vega-lite\": \"https://cdn.jsdelivr.net/npm//vega-lite@4.8.1?noext\",\n      \"vega-embed\": \"https://cdn.jsdelivr.net/npm//vega-embed@6?noext\",\n    };\n\n    function loadScript(lib) {\n      return new Promise(function(resolve, reject) {\n        var s = document.createElement('script');\n        s.src = paths[lib];\n        s.async = true;\n        s.onload = () => resolve(paths[lib]);\n        s.onerror = () => reject(`Error loading script: ${paths[lib]}`);\n        document.getElementsByTagName(\"head\")[0].appendChild(s);\n      });\n    }\n\n    function showError(err) {\n      outputDiv.innerHTML = `<div class=\"error\" style=\"color:red;\">${err}</div>`;\n      throw err;\n    }\n\n    function displayChart(vegaEmbed) {\n      vegaEmbed(outputDiv, spec, embedOpt)\n        .catch(err => showError(`Javascript Error: ${err.message}<br>This usually means there's a typo in your chart specification. See the javascript console for the full traceback.`));\n    }\n\n    if(typeof define === \"function\" && define.amd) {\n      requirejs.config({paths});\n      require([\"vega-embed\"], displayChart, err => showError(`Error loading script: ${err.message}`));\n    } else if (typeof vegaEmbed === \"function\") {\n      displayChart(vegaEmbed);\n    } else {\n      loadScript(\"vega\")\n        .then(() => loadScript(\"vega-lite\"))\n        .then(() => loadScript(\"vega-embed\"))\n        .catch(showError)\n        .then(() => displayChart(vegaEmbed));\n    }\n  })({\"config\": {\"axis\": {\"labelFontSize\": 12, \"labelColor\": \"#666\", \"titleFontSize\": 14, \"titleFontWeight\": \"normal\", \"titleColor\": \"#666\"}, \"axisX\": {\"grid\": false, \"gridWidth\": 0.4}, \"axisY\": {\"gridDash\": [3], \"gridWidth\": 0.4, \"offset\": 10}, \"legend\": {\"titleFontSize\": 14, \"titleFontWeight\": \"normal\", \"titleColor\": \"#666\", \"labelColor\": \"#666\", \"labelFontSize\": 13}, \"font\": \"Avenir Next, sans-serif\", \"header\": {\"labelFontSize\": 14, \"labelColor\": \"#666\", \"titleFontSize\": 16, \"titleFontWeight\": \"normal\", \"titleColor\": \"#666\"}, \"headerRow\": {\"labelFontSize\": 14, \"labelColor\": \"#666\"}, \"title\": {\"anchor\": \"start\", \"frame\": \"group\", \"offset\": 10, \"fontSize\": 24, \"font\": \"Avenir Next Demi Bold, Avenir Next, sans-serif\"}, \"view\": {\"strokeWidth\": 0, \"continuousWidth\": 600, \"continuousHeight\": 400}}, \"vconcat\": [{\"mark\": \"bar\", \"encoding\": {\"color\": {\"type\": \"nominal\", \"field\": \"lag\", \"sort\": [\"0-1\", \"2-4\", \"5-7\", \"8-14\", \"15+\"], \"title\": \"Lag in Days\"}, \"order\": {\"type\": \"nominal\", \"field\": \"days_since_publication\", \"sort\": \"ascending\"}, \"x\": {\"type\": \"temporal\", \"axis\": {\"tickCount\": 5}, \"field\": \"date\", \"timeUnit\": \"yearmonthdate\", \"title\": \"Occurred\"}, \"y\": {\"type\": \"quantitative\", \"aggregate\": \"sum\", \"field\": \"n_diff\", \"title\": \"\"}}, \"title\": {\"text\": \"Daily Covid-19 Deaths in Sweden Past Six Weeks\", \"subtitle\": \"Updated on Friday, February 05\"}}, {\"mark\": \"bar\", \"encoding\": {\"tooltip\": [{\"type\": \"quantitative\", \"aggregate\": \"sum\", \"field\": \"n_diff\", \"title\": \"Reported Deaths\"}, {\"type\": \"temporal\", \"field\": \"publication_date\"}], \"x\": {\"type\": \"temporal\", \"axis\": {\"tickCount\": 5}, \"field\": \"publication_date\", \"scale\": {}, \"timeUnit\": \"yearmonthdate\", \"title\": \"Reported\"}, \"y\": {\"type\": \"quantitative\", \"aggregate\": \"sum\", \"field\": \"n_diff\", \"title\": \"\"}}, \"height\": 100, \"selection\": {\"selector003\": {\"type\": \"interval\", \"encodings\": [\"x\"]}}}], \"data\": {\"url\": \"data/fhm.json\"}, \"transform\": [{\"filter\": \"(datum.date > 1608854400000.0)\"}], \"$schema\": \"https://vega.github.io/schema/vega-lite/v4.8.1.json\"}, {\"mode\": \"vega-lite\"});\n</script>",
      "text/plain": [
       "alt.VConcatChart(...)"
      ]
     },
     "metadata": {},
     "execution_count": 17
    }
   ],
   "source": [
    "# Show the last 42 days of death dates\n",
    "cutoff = (fhm_data.date.max().timestamp() - 42 * 24 * 60 * 60) * 1000\n",
    "\n",
    "deceased = (\n",
    "    alt.Chart(\n",
    "        url,\n",
    "        title={\n",
    "            \"text\": \"Daily Covid-19 Deaths in Sweden Past Six Weeks\",\n",
    "            \"subtitle\": f\"Updated on {fhm_data.date.max().date():%A, %B %d}\",\n",
    "        },\n",
    "    )\n",
    "    .mark_bar()\n",
    "    .encode(\n",
    "        x=alt.X(\"yearmonthdate(date):T\", title=\"Occurred\", axis=alt.Axis(tickCount=5),),\n",
    "        y=alt.Y(\"sum(n_diff):Q\", title=\"\",),\n",
    "        order=alt.Order(\n",
    "            # Sort the segments of the bars by this field\n",
    "            \"days_since_publication:N\",\n",
    "            sort=\"ascending\",\n",
    "        ),\n",
    "        color=alt.Color(\n",
    "            \"lag:N\",\n",
    "            title=\"Lag in Days\",\n",
    "            sort=labels,\n",
    "        )\n",
    "    )\n",
    ")\n",
    "\n",
    "(\n",
    "    deceased\n",
    "    & reported.mark_bar().encode(\n",
    "        x=alt.X(\n",
    "            \"yearmonthdate(publication_date):T\",\n",
    "            title=\"Reported\",\n",
    "            scale=alt.Scale(),\n",
    "            axis=alt.Axis(tickCount=5),\n",
    "        ),\n",
    "        y=alt.Y(\"sum(n_diff):Q\", title=\"\",),\n",
    "    )\n",
    ").transform_filter(alt.datum.date > cutoff)"
   ]
  },
  {
   "cell_type": "markdown",
   "metadata": {},
   "source": [
    "## Weekly reported deaths\n",
    "\n",
    "Number of deaths reported each week with each publication weekday shown individually. Since week 25 no numbers are published on weekends. Since week 38 numbers are only published Tuesdays trough Fridays. "
   ]
  },
  {
   "cell_type": "code",
   "execution_count": 7,
   "metadata": {},
   "outputs": [],
   "source": [
    "# Only show label for every five weeks on x-axis\n",
    "weeks2020 = [f'20-{week}' for week in range(4,54,5)]\n",
    "weeks2021 = [f'21-{week:02}' for week in range(1, 54, 5)]\n",
    "values = weeks2020 + weeks2021"
   ]
  },
  {
   "cell_type": "code",
   "execution_count": 8,
   "metadata": {},
   "outputs": [
    {
     "output_type": "execute_result",
     "data": {
      "text/html": "\n<div id=\"altair-viz-59df7d8df2424ae9a00b023bf9ab3457\"></div>\n<script type=\"text/javascript\">\n  (function(spec, embedOpt){\n    let outputDiv = document.currentScript.previousElementSibling;\n    if (outputDiv.id !== \"altair-viz-59df7d8df2424ae9a00b023bf9ab3457\") {\n      outputDiv = document.getElementById(\"altair-viz-59df7d8df2424ae9a00b023bf9ab3457\");\n    }\n    const paths = {\n      \"vega\": \"https://cdn.jsdelivr.net/npm//vega@5?noext\",\n      \"vega-lib\": \"https://cdn.jsdelivr.net/npm//vega-lib?noext\",\n      \"vega-lite\": \"https://cdn.jsdelivr.net/npm//vega-lite@4.8.1?noext\",\n      \"vega-embed\": \"https://cdn.jsdelivr.net/npm//vega-embed@6?noext\",\n    };\n\n    function loadScript(lib) {\n      return new Promise(function(resolve, reject) {\n        var s = document.createElement('script');\n        s.src = paths[lib];\n        s.async = true;\n        s.onload = () => resolve(paths[lib]);\n        s.onerror = () => reject(`Error loading script: ${paths[lib]}`);\n        document.getElementsByTagName(\"head\")[0].appendChild(s);\n      });\n    }\n\n    function showError(err) {\n      outputDiv.innerHTML = `<div class=\"error\" style=\"color:red;\">${err}</div>`;\n      throw err;\n    }\n\n    function displayChart(vegaEmbed) {\n      vegaEmbed(outputDiv, spec, embedOpt)\n        .catch(err => showError(`Javascript Error: ${err.message}<br>This usually means there's a typo in your chart specification. See the javascript console for the full traceback.`));\n    }\n\n    if(typeof define === \"function\" && define.amd) {\n      requirejs.config({paths});\n      require([\"vega-embed\"], displayChart, err => showError(`Error loading script: ${err.message}`));\n    } else if (typeof vegaEmbed === \"function\") {\n      displayChart(vegaEmbed);\n    } else {\n      loadScript(\"vega\")\n        .then(() => loadScript(\"vega-lite\"))\n        .then(() => loadScript(\"vega-embed\"))\n        .catch(showError)\n        .then(() => displayChart(vegaEmbed));\n    }\n  })({\"config\": {\"axis\": {\"labelFontSize\": 12, \"labelColor\": \"#666\", \"titleFontSize\": 14, \"titleFontWeight\": \"normal\", \"titleColor\": \"#666\"}, \"axisX\": {\"grid\": false, \"gridWidth\": 0.4}, \"axisY\": {\"gridDash\": [3], \"gridWidth\": 0.4, \"offset\": 10}, \"legend\": {\"titleFontSize\": 14, \"titleFontWeight\": \"normal\", \"titleColor\": \"#666\", \"labelColor\": \"#666\", \"labelFontSize\": 13, \"orient\": \"right\"}, \"font\": \"Avenir Next, sans-serif\", \"header\": {\"labelFontSize\": 14, \"labelColor\": \"#666\", \"titleFontSize\": 16, \"titleFontWeight\": \"normal\", \"titleColor\": \"#666\"}, \"headerRow\": {\"labelFontSize\": 14, \"labelColor\": \"#666\"}, \"title\": {\"anchor\": \"start\", \"frame\": \"group\", \"offset\": 10, \"fontSize\": 24, \"font\": \"Avenir Next Demi Bold, Avenir Next, sans-serif\"}, \"view\": {\"strokeWidth\": 0, \"continuousWidth\": 600, \"continuousHeight\": 400}}, \"layer\": [{\"mark\": \"bar\", \"encoding\": {\"color\": {\"type\": \"nominal\", \"field\": \"publication_date\", \"sort\": [\"Mon\", \"Tue\", \"Wed\", \"Thu\", \"Fri\", \"Sat\", \"Sun\"], \"timeUnit\": \"day\", \"title\": \"Publication Day\"}, \"order\": {\"type\": \"nominal\", \"field\": \"publication_date\"}, \"tooltip\": [{\"type\": \"quantitative\", \"aggregate\": \"sum\", \"field\": \"n_diff\", \"title\": \"Reported Deaths\"}, {\"type\": \"temporal\", \"field\": \"publication_date\"}], \"x\": {\"type\": \"ordinal\", \"axis\": {\"offset\": -30, \"values\": [\"20-4\", \"20-9\", \"20-14\", \"20-19\", \"20-24\", \"20-29\", \"20-34\", \"20-39\", \"20-44\", \"20-49\", \"21-01\", \"21-06\", \"21-11\", \"21-16\", \"21-21\", \"21-26\", \"21-31\", \"21-36\", \"21-41\", \"21-46\", \"21-51\"]}, \"field\": \"publication_week\", \"title\": null}, \"y\": {\"type\": \"quantitative\", \"aggregate\": \"sum\", \"axis\": null, \"field\": \"n_diff\", \"stack\": \"zero\"}}, \"title\": {\"text\": \"Weekly Reported Covid-19  Deaths in Sweden\", \"subtitle\": \"Updated on Friday, February 05\"}}, {\"mark\": {\"type\": \"text\", \"baseline\": \"bottom\", \"color\": \"black\", \"fontSize\": 9}, \"encoding\": {\"text\": {\"type\": \"quantitative\", \"aggregate\": \"sum\", \"field\": \"n_diff\"}, \"x\": {\"type\": \"ordinal\", \"axis\": {\"offset\": -30, \"values\": [\"20-4\", \"20-9\", \"20-14\", \"20-19\", \"20-24\", \"20-29\", \"20-34\", \"20-39\", \"20-44\", \"20-49\", \"21-01\", \"21-06\", \"21-11\", \"21-16\", \"21-21\", \"21-26\", \"21-31\", \"21-36\", \"21-41\", \"21-46\", \"21-51\"]}, \"field\": \"publication_week\", \"title\": null}, \"y\": {\"type\": \"quantitative\", \"aggregate\": \"sum\", \"axis\": null, \"field\": \"n_diff\", \"stack\": \"zero\"}}, \"title\": {\"text\": \"Weekly Reported Covid-19  Deaths in Sweden\", \"subtitle\": \"Updated on Friday, February 05\"}}], \"data\": {\"url\": \"data/fhm.json\"}, \"width\": 700, \"$schema\": \"https://vega.github.io/schema/vega-lite/v4.8.1.json\"}, {\"mode\": \"vega-lite\"});\n</script>",
      "text/plain": [
       "alt.LayerChart(...)"
      ]
     },
     "metadata": {},
     "execution_count": 8
    }
   ],
   "source": [
    "week_order = [\"Mon\", \"Tue\", \"Wed\", \"Thu\", \"Fri\", \"Sat\", \"Sun\"]\n",
    "\n",
    "base = (\n",
    "    alt.Chart(\n",
    "        url,\n",
    "        title={\n",
    "            \"text\": \"Weekly Reported Covid-19  Deaths in Sweden\",\n",
    "            \"subtitle\": f\"Updated on {fhm_data.date.max().date():%A, %B %d}\",\n",
    "        },\n",
    "    )\n",
    "    .mark_bar()\n",
    "    .encode(\n",
    "        x=alt.X(\n",
    "            \"publication_week:O\", title=None, axis=alt.Axis(offset=-30, values=values)\n",
    "        ),\n",
    "        y=alt.Y(\"sum(n_diff):Q\", stack=\"zero\", axis=None),\n",
    "    )\n",
    ")\n",
    "\n",
    "bars = base.mark_bar().encode(\n",
    "    order=alt.Order(\"publication_date:N\"),\n",
    "    color=alt.Color(\n",
    "        \"day(publication_date):N\", title=\"Publication Day\", sort=week_order\n",
    "    ),\n",
    "    tooltip=[\n",
    "        alt.Tooltip(\"sum(n_diff):Q\", title=\"Reported Deaths\"),\n",
    "        \"publication_date:T\",\n",
    "    ],\n",
    ")\n",
    "\n",
    "text = base.mark_text(color=\"black\", baseline=\"bottom\", fontSize=9).encode(\n",
    "    text=alt.Text(\"sum(n_diff):Q\")\n",
    ")\n",
    "\n",
    "(bars + text).properties(width=700).configure_legend(orient=\"right\")"
   ]
  },
  {
   "cell_type": "markdown",
   "metadata": {},
   "source": [
    "## Weekly number of cases\n",
    "\n",
    "Number of Covid-19 cases. Date is when test was performed. Cases are reported Tue-Fri."
   ]
  },
  {
   "cell_type": "code",
   "execution_count": 9,
   "metadata": {},
   "outputs": [
    {
     "output_type": "execute_result",
     "data": {
      "text/html": "\n<div id=\"altair-viz-c6dc222832cf4110b4665e84deb99d7b\"></div>\n<script type=\"text/javascript\">\n  (function(spec, embedOpt){\n    let outputDiv = document.currentScript.previousElementSibling;\n    if (outputDiv.id !== \"altair-viz-c6dc222832cf4110b4665e84deb99d7b\") {\n      outputDiv = document.getElementById(\"altair-viz-c6dc222832cf4110b4665e84deb99d7b\");\n    }\n    const paths = {\n      \"vega\": \"https://cdn.jsdelivr.net/npm//vega@5?noext\",\n      \"vega-lib\": \"https://cdn.jsdelivr.net/npm//vega-lib?noext\",\n      \"vega-lite\": \"https://cdn.jsdelivr.net/npm//vega-lite@4.8.1?noext\",\n      \"vega-embed\": \"https://cdn.jsdelivr.net/npm//vega-embed@6?noext\",\n    };\n\n    function loadScript(lib) {\n      return new Promise(function(resolve, reject) {\n        var s = document.createElement('script');\n        s.src = paths[lib];\n        s.async = true;\n        s.onload = () => resolve(paths[lib]);\n        s.onerror = () => reject(`Error loading script: ${paths[lib]}`);\n        document.getElementsByTagName(\"head\")[0].appendChild(s);\n      });\n    }\n\n    function showError(err) {\n      outputDiv.innerHTML = `<div class=\"error\" style=\"color:red;\">${err}</div>`;\n      throw err;\n    }\n\n    function displayChart(vegaEmbed) {\n      vegaEmbed(outputDiv, spec, embedOpt)\n        .catch(err => showError(`Javascript Error: ${err.message}<br>This usually means there's a typo in your chart specification. See the javascript console for the full traceback.`));\n    }\n\n    if(typeof define === \"function\" && define.amd) {\n      requirejs.config({paths});\n      require([\"vega-embed\"], displayChart, err => showError(`Error loading script: ${err.message}`));\n    } else if (typeof vegaEmbed === \"function\") {\n      displayChart(vegaEmbed);\n    } else {\n      loadScript(\"vega\")\n        .then(() => loadScript(\"vega-lite\"))\n        .then(() => loadScript(\"vega-embed\"))\n        .catch(showError)\n        .then(() => displayChart(vegaEmbed));\n    }\n  })({\"config\": {\"axis\": {\"labelFontSize\": 12, \"labelColor\": \"#666\", \"titleFontSize\": 14, \"titleFontWeight\": \"normal\", \"titleColor\": \"#666\"}, \"axisX\": {\"grid\": false, \"gridWidth\": 0.4}, \"axisY\": {\"gridDash\": [3], \"gridWidth\": 0.4, \"offset\": 10}, \"legend\": {\"titleFontSize\": 14, \"titleFontWeight\": \"normal\", \"titleColor\": \"#666\", \"labelColor\": \"#666\", \"labelFontSize\": 13}, \"font\": \"Avenir Next, sans-serif\", \"header\": {\"labelFontSize\": 14, \"labelColor\": \"#666\", \"titleFontSize\": 16, \"titleFontWeight\": \"normal\", \"titleColor\": \"#666\"}, \"headerRow\": {\"labelFontSize\": 14, \"labelColor\": \"#666\"}, \"title\": {\"anchor\": \"start\", \"frame\": \"group\", \"offset\": 10, \"fontSize\": 24, \"font\": \"Avenir Next Demi Bold, Avenir Next, sans-serif\"}, \"view\": {\"strokeWidth\": 0, \"continuousWidth\": 600, \"continuousHeight\": 400}}, \"data\": {\"url\": \"https://raw.githubusercontent.com/morberg/covid-notebook/master/data/cases.json\"}, \"mark\": \"bar\", \"encoding\": {\"color\": {\"type\": \"nominal\", \"field\": \"Statistikdatum\", \"legend\": {\"orient\": \"top-left\"}, \"sort\": [\"Mon\", \"Tue\", \"Wed\", \"Thu\", \"Fri\", \"Sat\", \"Sun\"], \"timeUnit\": \"day\", \"title\": \"Day reported\"}, \"order\": {\"type\": \"nominal\", \"field\": \"Statistikdatum\"}, \"tooltip\": [{\"type\": \"quantitative\", \"aggregate\": \"sum\", \"field\": \"Fall\", \"title\": \"Number of Cases\"}, {\"type\": \"temporal\", \"field\": \"Statistikdatum\", \"title\": \"Date reported\"}], \"x\": {\"type\": \"ordinal\", \"axis\": {\"values\": [\"20-4\", \"20-9\", \"20-14\", \"20-19\", \"20-24\", \"20-29\", \"20-34\", \"20-39\", \"20-44\", \"20-49\", \"21-01\", \"21-06\", \"21-11\", \"21-16\", \"21-21\", \"21-26\", \"21-31\", \"21-36\", \"21-41\", \"21-46\", \"21-51\"]}, \"field\": \"Vecka\", \"title\": null}, \"y\": {\"type\": \"quantitative\", \"aggregate\": \"sum\", \"axis\": {\"offset\": 10, \"orient\": \"right\", \"title\": null}, \"field\": \"Fall\"}}, \"title\": {\"text\": \"Weekly Covid-19 Cases in Sweden\", \"subtitle\": \"Updated on Thursday, February 04\"}, \"width\": 700, \"$schema\": \"https://vega.github.io/schema/vega-lite/v4.8.1.json\"}, {\"mode\": \"vega-lite\"});\n</script>",
      "text/plain": [
       "alt.Chart(...)"
      ]
     },
     "metadata": {},
     "execution_count": 9
    }
   ],
   "source": [
    "week_order = [\"Mon\", \"Tue\", \"Wed\", \"Thu\", \"Fri\", \"Sat\", \"Sun\"]\n",
    "\n",
    "alt.Chart(\n",
    "    cases_url,\n",
    "    title={\n",
    "        \"text\": \"Weekly Covid-19 Cases in Sweden\",\n",
    "        \"subtitle\": f\"Updated on {cases.Statistikdatum.max().date():%A, %B %d}\",\n",
    "    },\n",
    "    width=700,\n",
    ").mark_bar().encode(\n",
    "    x=alt.X(\"Vecka:O\", title=None, axis=alt.Axis(values=values)),\n",
    "    y=alt.Y(\"sum(Fall):Q\", axis=alt.Axis(title=None, orient=\"right\", offset=10),),\n",
    "    order=alt.Order(\"Statistikdatum:N\"),\n",
    "    color=alt.Color(\n",
    "        \"day(Statistikdatum):N\",\n",
    "        title=\"Day reported\",\n",
    "        sort=week_order,\n",
    "        legend=alt.Legend(orient=\"top-left\"),\n",
    "    ),\n",
    "    tooltip=[\n",
    "        alt.Tooltip(\"sum(Fall):Q\", title=\"Number of Cases\"),\n",
    "        alt.Tooltip(\"Statistikdatum:T\", title=\"Date reported\"),\n",
    "    ],\n",
    ")"
   ]
  },
  {
   "cell_type": "markdown",
   "metadata": {},
   "source": [
    "## Why is the total number different from official numbers?\n",
    "\n",
    "Total death toll in these graphs differ from official total numbers since:\n",
    "\n",
    "* Old data points with few deaths have been trimmed to make graphs more legible\n",
    "* Some death dates are unknown and are not included in these numbers\n"
   ]
  },
  {
   "cell_type": "code",
   "execution_count": null,
   "metadata": {},
   "outputs": [],
   "source": []
  }
 ],
 "metadata": {
  "kernelspec": {
   "name": "python3",
   "display_name": "Python 3.9.1 64-bit ('.venv')",
   "metadata": {
    "interpreter": {
     "hash": "e663618924d226765b449c000fcc9518aa6eac8dad39b24d9bfe371226644f70"
    }
   }
  },
  "language_info": {
   "codemirror_mode": {
    "name": "ipython",
    "version": 3
   },
   "file_extension": ".py",
   "mimetype": "text/x-python",
   "name": "python",
   "nbconvert_exporter": "python",
   "pygments_lexer": "ipython3",
   "version": "3.9.1-final"
  }
 },
 "nbformat": 4,
 "nbformat_minor": 4
}